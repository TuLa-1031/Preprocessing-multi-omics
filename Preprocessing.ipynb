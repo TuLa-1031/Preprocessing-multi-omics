{
 "cells": [
  {
   "cell_type": "code",
   "execution_count": 1,
   "id": "47cfa1aa-1464-441b-9885-cfa7132ff3f0",
   "metadata": {},
   "outputs": [],
   "source": [
    "import pandas as pd\n",
    "import numpy as np\n",
    "from preprocessing import *"
   ]
  },
  {
   "cell_type": "code",
   "execution_count": 3,
   "id": "2c163109-5ff8-42b0-a3b0-a9f206804a6b",
   "metadata": {},
   "outputs": [],
   "source": [
    "DNAm_dir = \"data/TCGA-LUAD.methylation450.tsv\"\n",
    "RNAseq_dir = \"data/TCGA-LUAD.star_fpkm.tsv\"\n",
    "\n",
    "try:\n",
    "    del DNAm_data\n",
    "    del RNAseq_data\n",
    "    print(\"Xoá data đã nạp\")\n",
    "except:\n",
    "    pass\n",
    "\n",
    "RNAseq_data = pd.read_csv(RNAseq_dir, sep=\"\\t\")\n",
    "DNAm_data = pd.read_csv(DNAm_dir, sep=\"\\t\")"
   ]
  },
  {
   "cell_type": "code",
   "execution_count": 4,
   "id": "78cbd3ae",
   "metadata": {},
   "outputs": [
    {
     "name": "stdout",
     "output_type": "stream",
     "text": [
      "(60660, 590)\n",
      "(486427, 504)\n"
     ]
    }
   ],
   "source": [
    "print(RNAseq_data.shape)\n",
    "print(DNAm_data.shape)"
   ]
  },
  {
   "cell_type": "code",
   "execution_count": 5,
   "id": "8bc58edd",
   "metadata": {},
   "outputs": [],
   "source": [
    "# Loại bỏ features bị thiếu 20% giá trị\n",
    "DNAm_filtered = features_remove(DNAm_data)"
   ]
  },
  {
   "cell_type": "code",
   "execution_count": 6,
   "id": "a0d640ca",
   "metadata": {},
   "outputs": [
    {
     "name": "stdout",
     "output_type": "stream",
     "text": [
      "(412700, 504)\n"
     ]
    }
   ],
   "source": [
    "print(DNAm_filtered.shape)"
   ]
  },
  {
   "cell_type": "code",
   "execution_count": 7,
   "id": "0fda51cc",
   "metadata": {},
   "outputs": [
    {
     "name": "stdout",
     "output_type": "stream",
     "text": [
      "0\n"
     ]
    }
   ],
   "source": [
    "#Suy ra các missing value bằng mean của identifier đó trên các mẫu khác.\n",
    "filled_DNAm = fill_missing_data(DNAm_filtered)\n",
    "#Kiểm tra xem còn bao nhiêu missing value.\n",
    "print(filled_DNAm.isnull().sum().sum())"
   ]
  },
  {
   "cell_type": "code",
   "execution_count": 8,
   "id": "c0a7920d",
   "metadata": {},
   "outputs": [],
   "source": [
    "#Tính expression difference trên từng identifier rồi chọn ra các identifier có giá trị cao nhất làm feature\n",
    "pp_DNAm = highest_scoring_features(filled_DNAm, features_num=1000)\n",
    "pp_RNAseq = highest_scoring_features(RNAseq_data, features_num = 2000, threshold=5)"
   ]
  },
  {
   "cell_type": "code",
   "execution_count": 9,
   "id": "4d4104a3",
   "metadata": {},
   "outputs": [],
   "source": [
    "pp_DNAm.to_csv('pp_DNAm.tsv', sep='\\t', index=False)\n",
    "pp_RNAseq.to_csv('pp_RNAseq.tsv', sep='\\t', index=False)"
   ]
  },
  {
   "cell_type": "code",
   "execution_count": null,
   "id": "beed40c5",
   "metadata": {},
   "outputs": [],
   "source": []
  }
 ],
 "metadata": {
  "kernelspec": {
   "display_name": "Python 3",
   "language": "python",
   "name": "python3"
  },
  "language_info": {
   "codemirror_mode": {
    "name": "ipython",
    "version": 3
   },
   "file_extension": ".py",
   "mimetype": "text/x-python",
   "name": "python",
   "nbconvert_exporter": "python",
   "pygments_lexer": "ipython3",
   "version": "3.12.7"
  }
 },
 "nbformat": 4,
 "nbformat_minor": 5
}
